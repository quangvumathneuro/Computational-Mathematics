{
  "nbformat": 4,
  "nbformat_minor": 0,
  "metadata": {
    "colab": {
      "provenance": []
    },
    "kernelspec": {
      "name": "python3",
      "display_name": "Python 3"
    },
    "language_info": {
      "name": "python"
    }
  },
  "cells": [
    {
      "cell_type": "markdown",
      "source": [
        "# Quang Vu\n"
      ],
      "metadata": {
        "id": "VxB-wahWAQPr"
      }
    },
    {
      "cell_type": "markdown",
      "source": [
        "Theorem 4.8 (Korselt criterion for Carmichael numbers). An integer n is a\n",
        "Carmichael number if and only if n is\n",
        "\n",
        "* positive,\n",
        "* composite,\n",
        "* square-free, and\n",
        "* for each prime p dividing n, p − 1 also divides n − 1.\n",
        "\n",
        "\n",
        "**Exploration 4.46:** Using Theorem 4.8, implement a function which will determine\n",
        "whether a given value n is a Carmichael number. Use this function to find all the\n",
        "Carmichael numbers up to 1,000,000 (or more).\n",
        "How many Carmichael numbers are there less than 25,000,000?\n",
        "\n",
        "Note: An effective implementation of Theorem 4.8 will utilize the prime factorization of the value n. Many programming languages such as Mathematica and Python have built-in functions which will do this in an efficient manner."
      ],
      "metadata": {
        "id": "kgPInM3zDs4K"
      }
    },
    {
      "cell_type": "markdown",
      "source": [
        "This function first checks if n is less than or equal to 2 or if it is even or has a square factor, in which case it cannot be a Carmichael number. Then, for each prime factor p of n, it checks if p-1 divides n-1, as required by the Korselt criterion."
      ],
      "metadata": {
        "id": "BL0nasSaB_He"
      }
    },
    {
      "cell_type": "code",
      "source": [
        "from sympy import factorint, isprime\n",
        "import math"
      ],
      "metadata": {
        "id": "yBKaL9oMwBaW"
      },
      "execution_count": null,
      "outputs": []
    },
    {
      "cell_type": "code",
      "source": [
        "def carmichaelNumbers(n):\n",
        "    if n <= 2 or isprime(n): #positive values and prime\n",
        "        return False\n",
        "    factors = factorint(n)\n",
        "    if any(exp > 1 for exp in factors.values()): #Checing if a number is composite or not\n",
        "        return False\n",
        "    for p in factors:\n",
        "        if (n-1) % (p-1) != 0: #each prime p dividing n, p − 1 also divides n − 1.\n",
        "            return False\n",
        "    return True"
      ],
      "metadata": {
        "id": "C_QGpOzunfRs"
      },
      "execution_count": null,
      "outputs": []
    },
    {
      "cell_type": "code",
      "source": [
        "carmichaels = []\n",
        "for n in range(3, 1000):\n",
        "    if carmichaelNumbers(n):\n",
        "        carmichaels.append(n)\n",
        "print(carmichaels)\n"
      ],
      "metadata": {
        "colab": {
          "base_uri": "https://localhost:8080/"
        },
        "id": "01AW9uiUwMCU",
        "outputId": "9cef267d-2a5c-48dc-c32b-20c4b0405bfb"
      },
      "execution_count": null,
      "outputs": [
        {
          "output_type": "stream",
          "name": "stdout",
          "text": [
            "[561]\n"
          ]
        }
      ]
    },
    {
      "cell_type": "markdown",
      "source": [
        "Using The On-Line Encyclopedia of Integer Sequences, I know that the first number for Carmichael is 561. As a rreuslt, I think the code is working. This code utilize some of python math library like checking prime number and prime factoriztion. Below,, I claculate Carmichael numbers up to 1,000,000."
      ],
      "metadata": {
        "id": "2kBf763p0MWk"
      }
    },
    {
      "cell_type": "code",
      "source": [
        "carmichaels1 = []\n",
        "for n in range(3, 1000001):\n",
        "    if carmichaelNumbers(n):\n",
        "        carmichaels1.append(n)\n",
        "print(carmichaels1)\n",
        "print(len(carmichaels1))"
      ],
      "metadata": {
        "colab": {
          "base_uri": "https://localhost:8080/"
        },
        "id": "4f8LcMpTwShr",
        "outputId": "f72ae2eb-3206-4658-ef1e-a3ebd0c7b9e5"
      },
      "execution_count": null,
      "outputs": [
        {
          "output_type": "stream",
          "name": "stdout",
          "text": [
            "[561, 1105, 1729, 2465, 2821, 6601, 8911, 10585, 15841, 29341, 41041, 46657, 52633, 62745, 63973, 75361, 101101, 115921, 126217, 162401, 172081, 188461, 252601, 278545, 294409, 314821, 334153, 340561, 399001, 410041, 449065, 488881, 512461, 530881, 552721, 656601, 658801, 670033, 748657, 825265, 838201, 852841, 997633]\n",
            "43\n"
          ]
        }
      ]
    },
    {
      "cell_type": "markdown",
      "source": [
        "The next code cell I want to see how many Carmichael numbers less than 25,000,000."
      ],
      "metadata": {
        "id": "RyzvpwxT0J7H"
      }
    },
    {
      "cell_type": "code",
      "source": [
        "carmichaels2 = []\n",
        "for n in range(1, 25000001):\n",
        "    if carmichaelNumbers(n):\n",
        "        carmichaels2.append(n)\n",
        "#print(carmichaels2)\n",
        "print(len(carmichaels2))"
      ],
      "metadata": {
        "colab": {
          "base_uri": "https://localhost:8080/"
        },
        "id": "0fneWP_lLU3X",
        "outputId": "de49dc06-e62a-4704-d231-e9fb7e043b9a"
      },
      "execution_count": null,
      "outputs": [
        {
          "output_type": "stream",
          "name": "stdout",
          "text": [
            "145\n"
          ]
        }
      ]
    },
    {
      "cell_type": "markdown",
      "source": [
        "I looks like there are 154 Carmicheal number less than 25,000,000"
      ],
      "metadata": {
        "id": "AOzunVHQ4LgN"
      }
    },
    {
      "cell_type": "markdown",
      "source": [
        "We suppose to check if there are exactly 2,163 Carmichael numbers less than 25,000,0000. Due to computational restriction, we can not compute to 25 billion numbers."
      ],
      "metadata": {
        "id": "pmPFNuKsgsOo"
      }
    }
  ]
}